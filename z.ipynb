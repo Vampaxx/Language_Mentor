{
 "cells": [
  {
   "cell_type": "code",
   "execution_count": 1,
   "metadata": {},
   "outputs": [],
   "source": [
    "data ={'Chapter1': {'title': 'Essential Parts of Speech', 'summary': 'Learn about the fundamental parts of speech in English, including nouns, verbs, and pronouns.', 'subtopics': [{'title': 'Nouns', 'summary': 'Understand the basic types of nouns, common and proper nouns, and how to use them in sentences.', 'examples': [{'title': 'Countable and Uncountable Nouns', 'description': 'Understand the difference between countable and uncountable nouns.', 'activity_examples': ['Example 1: List 10 countable nouns (e.g., book, chair, dog)', 'Example 2: Find examples of uncountable nouns in a text']}, {'title': 'Common and Proper Nouns', 'description': 'Identify common and proper nouns and give examples of each.', 'activity_examples': ['Example 1: Identify common nouns in a sentence', 'Example 2: Identify proper nouns in a text']}]}, {'title': 'Verbs', 'summary': 'Understand the basics of verb tenses and how to use them in sentences.', 'examples': [{'title': 'Present Tense', 'description': 'Learn about the present tense and practice using it in sentences.', 'activity_examples': ['Example 1: Write 5 sentences in the present tense', 'Example 2: Identify the present tense in a text']}, {'title': 'Past Tense', 'description': 'Learn about the past tense and practice using it in sentences.', 'activity_examples': ['Example 1: Write 5 sentences in the past tense', 'Example 2: Identify the past tense in a text']}]}, {'title': 'Pronouns', 'summary': 'Understand the basics of pronouns and how to use them in sentences.', 'examples': [{'title': 'Personal Pronouns', 'description': 'Learn about personal pronouns and practice using them in sentences.', 'activity_examples': ['Example 1: Write 5 sentences using personal pronouns', 'Example 2: Identify personal pronouns in a text']}, {'title': 'Possessive Pronouns', 'description': 'Learn about possessive pronouns and practice using them in sentences.', 'activity_examples': ['Example 1: Write 5 sentences using possessive pronouns', 'Example 2: Identify possessive pronouns in a text']}]}]}, 'Chapter2': {'title': 'Adjectives, Adverbs, Conjunctions, Interjections, and Prepositions', 'summary': 'Learn about the different parts of speech that add meaning to sentences.', 'subtopics': [{'title': 'Adjectives', 'summary': 'Understand the basics of adjectives and how to use them in sentences.', 'examples': [{'title': 'Describing Nouns', 'description': 'Learn about adjectives and how to use them to describe nouns.', 'activity_examples': ['Example 1: Write 5 sentences using adjectives to describe nouns', 'Example 2: Identify adjectives in a text']}, {'title': 'Comparing Nouns', 'description': 'Learn about comparing nouns using adjectives.', 'activity_examples': ['Example 1: Write 5 sentences comparing nouns using adjectives', 'Example 2: Identify adjectives in a text comparing nouns']}]}, {'title': 'Adverbs', 'summary': 'Understand the basics of adverbs and how to use them in sentences.', 'examples': [{'title': 'Describing Verbs', 'description': 'Learn about adverbs and how to use them to describe verbs.', 'activity_examples': ['Example 1: Write 5 sentences using adverbs to describe verbs', 'Example 2: Identify adverbs in a text']}, {'title': 'Comparing Actions', 'description': 'Learn about comparing actions using adverbs.', 'activity_examples': ['Example 1: Write 5 sentences comparing actions using adverbs', 'Example 2: Identify adverbs in a text comparing actions']}]}, {'title': 'Conjunctions', 'summary': 'Understand the basics of conjunctions and how to use them in sentences.', 'examples': [{'title': 'Coordinating Conjunctions', 'description': 'Learn about coordinating conjunctions and how to use them to join clauses.', 'activity_examples': ['Example 1: Write 5 sentences using coordinating conjunctions', 'Example 2: Identify coordinating conjunctions in a text']}, {'title': 'Subordinating Conjunctions', 'description': 'Learn about subordinating conjunctions and how to use them to join clauses.', 'activity_examples': ['Example 1: Write 5 sentences using subordinating conjunctions', 'Example 2: Identify subordinating conjunctions in a text']}]}, {'title': 'Interjections', 'summary': 'Understand the basics of interjections and how to use them in sentences.', 'examples': [{'title': ' expressing Emotions', 'description': 'Learn about interjections and how to use them to express emotions.', 'activity_examples': ['Example 1: Write 5 sentences using interjections to express emotions', 'Example 2: Identify interjections in a text']}]}, {'title': 'Prepositions', 'summary': 'Understand the basics of prepositions and how to use them in sentences.', 'examples': [{'title': 'Location and Direction', 'description': 'Learn about prepositions and how to use them to show location and direction.', 'activity_examples': ['Example 1: Write 5 sentences using prepositions to show location and direction', 'Example 2: Identify prepositions in a text']}, {'title': 'Time and Manner', 'description': 'Learn about prepositions and how to use them to show time and manner.', 'activity_examples': ['Example 1: Write 5 sentences using prepositions to show time and manner', 'Example 2: Identify prepositions in a text']}]}]}, 'Chapter3': {'title': 'Sentence Structure', 'summary': 'Improve your sentence formation skills by learning about different sentence structures.', 'subtopics': [{'title': 'Simple Sentences', 'summary': 'Understand how to form simple sentences using subject-verb agreement.', 'examples': [{'title': 'Subject-Verb Agreement', 'description': 'Learn about subject-verb agreement and how to use it to form simple sentences.', 'activity_examples': ['Example 1: Write 5 simple sentences with correct subject-verb agreement', 'Example 2: Identify subject-verb agreement in a text']}]}, {'title': 'Compound Sentences', 'summary': 'Understand how to form compound sentences using coordinating conjunctions.', 'examples': [{'title': 'Coordinating Conjunctions', 'description': 'Learn about coordinating conjunctions and how to use them to form compound sentences.', 'activity_examples': ['Example 1: Write 5 compound sentences using coordinating conjunctions', 'Example 2: Identify coordinating conjunctions in a compound sentence']}]}, {'title': 'Complex Sentences', 'summary': 'Understand how to form complex sentences using subordinating conjunctions.', 'examples': [{'title': 'Subordinating Conjunctions', 'description': 'Learn about subordinating conjunctions and how to use them to form complex sentences.', 'activity_examples': ['Example 1: Write 5 complex sentences using subordinating conjunctions', 'Example 2: Identify subordinating conjunctions in a complex sentence']}]}]}} \n"
   ]
  },
  {
   "cell_type": "code",
   "execution_count": 3,
   "metadata": {},
   "outputs": [],
   "source": [
    "from Language_Mentor.utils.common import json_to_sentence"
   ]
  },
  {
   "cell_type": "code",
   "execution_count": 5,
   "metadata": {},
   "outputs": [
    {
     "data": {
      "text/plain": [
       "dict"
      ]
     },
     "execution_count": 5,
     "metadata": {},
     "output_type": "execute_result"
    }
   ],
   "source": [
    "type(data)"
   ]
  },
  {
   "cell_type": "code",
   "execution_count": 6,
   "metadata": {},
   "outputs": [
    {
     "data": {
      "text/plain": [
       "dict_keys(['Chapter1', 'Chapter2', 'Chapter3'])"
      ]
     },
     "execution_count": 6,
     "metadata": {},
     "output_type": "execute_result"
    }
   ],
   "source": [
    "data.keys()"
   ]
  },
  {
   "cell_type": "code",
   "execution_count": 10,
   "metadata": {},
   "outputs": [],
   "source": [
    "if isinstance(data,dict):\n",
    "    result = []\n",
    "    for key,value in data.items():\n",
    "        result.append(f\"{key}:{value}\")"
   ]
  },
  {
   "cell_type": "code",
   "execution_count": 11,
   "metadata": {},
   "outputs": [
    {
     "name": "stdout",
     "output_type": "stream",
     "text": [
      "[\"Chapter1:{'title': 'Essential Parts of Speech', 'summary': 'Learn about the fundamental parts of speech in English, including nouns, verbs, and pronouns.', 'subtopics': [{'title': 'Nouns', 'summary': 'Understand the basic types of nouns, common and proper nouns, and how to use them in sentences.', 'examples': [{'title': 'Countable and Uncountable Nouns', 'description': 'Understand the difference between countable and uncountable nouns.', 'activity_examples': ['Example 1: List 10 countable nouns (e.g., book, chair, dog)', 'Example 2: Find examples of uncountable nouns in a text']}, {'title': 'Common and Proper Nouns', 'description': 'Identify common and proper nouns and give examples of each.', 'activity_examples': ['Example 1: Identify common nouns in a sentence', 'Example 2: Identify proper nouns in a text']}]}, {'title': 'Verbs', 'summary': 'Understand the basics of verb tenses and how to use them in sentences.', 'examples': [{'title': 'Present Tense', 'description': 'Learn about the present tense and practice using it in sentences.', 'activity_examples': ['Example 1: Write 5 sentences in the present tense', 'Example 2: Identify the present tense in a text']}, {'title': 'Past Tense', 'description': 'Learn about the past tense and practice using it in sentences.', 'activity_examples': ['Example 1: Write 5 sentences in the past tense', 'Example 2: Identify the past tense in a text']}]}, {'title': 'Pronouns', 'summary': 'Understand the basics of pronouns and how to use them in sentences.', 'examples': [{'title': 'Personal Pronouns', 'description': 'Learn about personal pronouns and practice using them in sentences.', 'activity_examples': ['Example 1: Write 5 sentences using personal pronouns', 'Example 2: Identify personal pronouns in a text']}, {'title': 'Possessive Pronouns', 'description': 'Learn about possessive pronouns and practice using them in sentences.', 'activity_examples': ['Example 1: Write 5 sentences using possessive pronouns', 'Example 2: Identify possessive pronouns in a text']}]}]}\", \"Chapter2:{'title': 'Adjectives, Adverbs, Conjunctions, Interjections, and Prepositions', 'summary': 'Learn about the different parts of speech that add meaning to sentences.', 'subtopics': [{'title': 'Adjectives', 'summary': 'Understand the basics of adjectives and how to use them in sentences.', 'examples': [{'title': 'Describing Nouns', 'description': 'Learn about adjectives and how to use them to describe nouns.', 'activity_examples': ['Example 1: Write 5 sentences using adjectives to describe nouns', 'Example 2: Identify adjectives in a text']}, {'title': 'Comparing Nouns', 'description': 'Learn about comparing nouns using adjectives.', 'activity_examples': ['Example 1: Write 5 sentences comparing nouns using adjectives', 'Example 2: Identify adjectives in a text comparing nouns']}]}, {'title': 'Adverbs', 'summary': 'Understand the basics of adverbs and how to use them in sentences.', 'examples': [{'title': 'Describing Verbs', 'description': 'Learn about adverbs and how to use them to describe verbs.', 'activity_examples': ['Example 1: Write 5 sentences using adverbs to describe verbs', 'Example 2: Identify adverbs in a text']}, {'title': 'Comparing Actions', 'description': 'Learn about comparing actions using adverbs.', 'activity_examples': ['Example 1: Write 5 sentences comparing actions using adverbs', 'Example 2: Identify adverbs in a text comparing actions']}]}, {'title': 'Conjunctions', 'summary': 'Understand the basics of conjunctions and how to use them in sentences.', 'examples': [{'title': 'Coordinating Conjunctions', 'description': 'Learn about coordinating conjunctions and how to use them to join clauses.', 'activity_examples': ['Example 1: Write 5 sentences using coordinating conjunctions', 'Example 2: Identify coordinating conjunctions in a text']}, {'title': 'Subordinating Conjunctions', 'description': 'Learn about subordinating conjunctions and how to use them to join clauses.', 'activity_examples': ['Example 1: Write 5 sentences using subordinating conjunctions', 'Example 2: Identify subordinating conjunctions in a text']}]}, {'title': 'Interjections', 'summary': 'Understand the basics of interjections and how to use them in sentences.', 'examples': [{'title': ' expressing Emotions', 'description': 'Learn about interjections and how to use them to express emotions.', 'activity_examples': ['Example 1: Write 5 sentences using interjections to express emotions', 'Example 2: Identify interjections in a text']}]}, {'title': 'Prepositions', 'summary': 'Understand the basics of prepositions and how to use them in sentences.', 'examples': [{'title': 'Location and Direction', 'description': 'Learn about prepositions and how to use them to show location and direction.', 'activity_examples': ['Example 1: Write 5 sentences using prepositions to show location and direction', 'Example 2: Identify prepositions in a text']}, {'title': 'Time and Manner', 'description': 'Learn about prepositions and how to use them to show time and manner.', 'activity_examples': ['Example 1: Write 5 sentences using prepositions to show time and manner', 'Example 2: Identify prepositions in a text']}]}]}\", \"Chapter3:{'title': 'Sentence Structure', 'summary': 'Improve your sentence formation skills by learning about different sentence structures.', 'subtopics': [{'title': 'Simple Sentences', 'summary': 'Understand how to form simple sentences using subject-verb agreement.', 'examples': [{'title': 'Subject-Verb Agreement', 'description': 'Learn about subject-verb agreement and how to use it to form simple sentences.', 'activity_examples': ['Example 1: Write 5 simple sentences with correct subject-verb agreement', 'Example 2: Identify subject-verb agreement in a text']}]}, {'title': 'Compound Sentences', 'summary': 'Understand how to form compound sentences using coordinating conjunctions.', 'examples': [{'title': 'Coordinating Conjunctions', 'description': 'Learn about coordinating conjunctions and how to use them to form compound sentences.', 'activity_examples': ['Example 1: Write 5 compound sentences using coordinating conjunctions', 'Example 2: Identify coordinating conjunctions in a compound sentence']}]}, {'title': 'Complex Sentences', 'summary': 'Understand how to form complex sentences using subordinating conjunctions.', 'examples': [{'title': 'Subordinating Conjunctions', 'description': 'Learn about subordinating conjunctions and how to use them to form complex sentences.', 'activity_examples': ['Example 1: Write 5 complex sentences using subordinating conjunctions', 'Example 2: Identify subordinating conjunctions in a complex sentence']}]}]}\"]\n"
     ]
    }
   ],
   "source": [
    "print(result)"
   ]
  },
  {
   "cell_type": "code",
   "execution_count": 12,
   "metadata": {},
   "outputs": [],
   "source": [
    "def json_to_sentence(data, level=0):\n",
    "    \"\"\"Recursively convert JSON data into a sentence-like string.\"\"\"\n",
    "    if isinstance(data, dict):\n",
    "        result = []\n",
    "        for key, value in data.items():\n",
    "            result.append(f\"{key}: {json_to_sentence(value, level + 1)}\")\n",
    "        return ', '.join(result)\n",
    "    elif isinstance(data, list):\n",
    "        return '; '.join([json_to_sentence(item, level + 1) for item in data])\n",
    "    else:\n",
    "        return str(data)"
   ]
  },
  {
   "cell_type": "code",
   "execution_count": 13,
   "metadata": {},
   "outputs": [
    {
     "data": {
      "text/plain": [
       "'Chapter1: title: Essential Parts of Speech, summary: Learn about the fundamental parts of speech in English, including nouns, verbs, and pronouns., subtopics: title: Nouns, summary: Understand the basic types of nouns, common and proper nouns, and how to use them in sentences., examples: title: Countable and Uncountable Nouns, description: Understand the difference between countable and uncountable nouns., activity_examples: Example 1: List 10 countable nouns (e.g., book, chair, dog); Example 2: Find examples of uncountable nouns in a text; title: Common and Proper Nouns, description: Identify common and proper nouns and give examples of each., activity_examples: Example 1: Identify common nouns in a sentence; Example 2: Identify proper nouns in a text; title: Verbs, summary: Understand the basics of verb tenses and how to use them in sentences., examples: title: Present Tense, description: Learn about the present tense and practice using it in sentences., activity_examples: Example 1: Write 5 sentences in the present tense; Example 2: Identify the present tense in a text; title: Past Tense, description: Learn about the past tense and practice using it in sentences., activity_examples: Example 1: Write 5 sentences in the past tense; Example 2: Identify the past tense in a text; title: Pronouns, summary: Understand the basics of pronouns and how to use them in sentences., examples: title: Personal Pronouns, description: Learn about personal pronouns and practice using them in sentences., activity_examples: Example 1: Write 5 sentences using personal pronouns; Example 2: Identify personal pronouns in a text; title: Possessive Pronouns, description: Learn about possessive pronouns and practice using them in sentences., activity_examples: Example 1: Write 5 sentences using possessive pronouns; Example 2: Identify possessive pronouns in a text, Chapter2: title: Adjectives, Adverbs, Conjunctions, Interjections, and Prepositions, summary: Learn about the different parts of speech that add meaning to sentences., subtopics: title: Adjectives, summary: Understand the basics of adjectives and how to use them in sentences., examples: title: Describing Nouns, description: Learn about adjectives and how to use them to describe nouns., activity_examples: Example 1: Write 5 sentences using adjectives to describe nouns; Example 2: Identify adjectives in a text; title: Comparing Nouns, description: Learn about comparing nouns using adjectives., activity_examples: Example 1: Write 5 sentences comparing nouns using adjectives; Example 2: Identify adjectives in a text comparing nouns; title: Adverbs, summary: Understand the basics of adverbs and how to use them in sentences., examples: title: Describing Verbs, description: Learn about adverbs and how to use them to describe verbs., activity_examples: Example 1: Write 5 sentences using adverbs to describe verbs; Example 2: Identify adverbs in a text; title: Comparing Actions, description: Learn about comparing actions using adverbs., activity_examples: Example 1: Write 5 sentences comparing actions using adverbs; Example 2: Identify adverbs in a text comparing actions; title: Conjunctions, summary: Understand the basics of conjunctions and how to use them in sentences., examples: title: Coordinating Conjunctions, description: Learn about coordinating conjunctions and how to use them to join clauses., activity_examples: Example 1: Write 5 sentences using coordinating conjunctions; Example 2: Identify coordinating conjunctions in a text; title: Subordinating Conjunctions, description: Learn about subordinating conjunctions and how to use them to join clauses., activity_examples: Example 1: Write 5 sentences using subordinating conjunctions; Example 2: Identify subordinating conjunctions in a text; title: Interjections, summary: Understand the basics of interjections and how to use them in sentences., examples: title:  expressing Emotions, description: Learn about interjections and how to use them to express emotions., activity_examples: Example 1: Write 5 sentences using interjections to express emotions; Example 2: Identify interjections in a text; title: Prepositions, summary: Understand the basics of prepositions and how to use them in sentences., examples: title: Location and Direction, description: Learn about prepositions and how to use them to show location and direction., activity_examples: Example 1: Write 5 sentences using prepositions to show location and direction; Example 2: Identify prepositions in a text; title: Time and Manner, description: Learn about prepositions and how to use them to show time and manner., activity_examples: Example 1: Write 5 sentences using prepositions to show time and manner; Example 2: Identify prepositions in a text, Chapter3: title: Sentence Structure, summary: Improve your sentence formation skills by learning about different sentence structures., subtopics: title: Simple Sentences, summary: Understand how to form simple sentences using subject-verb agreement., examples: title: Subject-Verb Agreement, description: Learn about subject-verb agreement and how to use it to form simple sentences., activity_examples: Example 1: Write 5 simple sentences with correct subject-verb agreement; Example 2: Identify subject-verb agreement in a text; title: Compound Sentences, summary: Understand how to form compound sentences using coordinating conjunctions., examples: title: Coordinating Conjunctions, description: Learn about coordinating conjunctions and how to use them to form compound sentences., activity_examples: Example 1: Write 5 compound sentences using coordinating conjunctions; Example 2: Identify coordinating conjunctions in a compound sentence; title: Complex Sentences, summary: Understand how to form complex sentences using subordinating conjunctions., examples: title: Subordinating Conjunctions, description: Learn about subordinating conjunctions and how to use them to form complex sentences., activity_examples: Example 1: Write 5 complex sentences using subordinating conjunctions; Example 2: Identify subordinating conjunctions in a complex sentence'"
      ]
     },
     "execution_count": 13,
     "metadata": {},
     "output_type": "execute_result"
    }
   ],
   "source": [
    "json_to_sentence(data)"
   ]
  },
  {
   "cell_type": "code",
   "execution_count": 14,
   "metadata": {},
   "outputs": [
    {
     "data": {
      "text/plain": [
       "dict"
      ]
     },
     "execution_count": 14,
     "metadata": {},
     "output_type": "execute_result"
    }
   ],
   "source": [
    "type(data)"
   ]
  },
  {
   "cell_type": "code",
   "execution_count": null,
   "metadata": {},
   "outputs": [],
   "source": []
  }
 ],
 "metadata": {
  "kernelspec": {
   "display_name": "llm_env",
   "language": "python",
   "name": "python3"
  },
  "language_info": {
   "codemirror_mode": {
    "name": "ipython",
    "version": 3
   },
   "file_extension": ".py",
   "mimetype": "text/x-python",
   "name": "python",
   "nbconvert_exporter": "python",
   "pygments_lexer": "ipython3",
   "version": "3.9.19"
  }
 },
 "nbformat": 4,
 "nbformat_minor": 2
}
