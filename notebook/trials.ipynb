{
 "cells": [
  {
   "cell_type": "code",
   "execution_count": 3,
   "metadata": {},
   "outputs": [],
   "source": [
    "import os  "
   ]
  },
  {
   "cell_type": "code",
   "execution_count": 1,
   "metadata": {},
   "outputs": [
    {
     "data": {
      "text/plain": [
       "'c:\\\\Users\\\\Asus\\\\vs_code\\\\Internship\\\\Language_Mentor\\\\notebook'"
      ]
     },
     "execution_count": 1,
     "metadata": {},
     "output_type": "execute_result"
    }
   ],
   "source": [
    "%pwd\n"
   ]
  },
  {
   "cell_type": "code",
   "execution_count": 4,
   "metadata": {},
   "outputs": [],
   "source": [
    "os.chdir(\"../\")"
   ]
  },
  {
   "cell_type": "code",
   "execution_count": 5,
   "metadata": {},
   "outputs": [],
   "source": [
    "from langchain_core.runnables import RunnablePassthrough,RunnableLambda"
   ]
  },
  {
   "cell_type": "code",
   "execution_count": null,
   "metadata": {},
   "outputs": [],
   "source": []
  },
  {
   "cell_type": "code",
   "execution_count": 1,
   "metadata": {},
   "outputs": [],
   "source": [
    "dict = {\"name\":\"micheal\",\n",
    "        \"place\":\"usa\"}\n"
   ]
  },
  {
   "cell_type": "code",
   "execution_count": 2,
   "metadata": {},
   "outputs": [
    {
     "data": {
      "text/plain": [
       "dict_items([('name', 'micheal'), ('place', 'usa')])"
      ]
     },
     "execution_count": 2,
     "metadata": {},
     "output_type": "execute_result"
    }
   ],
   "source": [
    "dict.items()"
   ]
  },
  {
   "cell_type": "code",
   "execution_count": null,
   "metadata": {},
   "outputs": [],
   "source": []
  },
  {
   "cell_type": "code",
   "execution_count": 9,
   "metadata": {},
   "outputs": [
    {
     "data": {
      "text/plain": [
       "{'question is name and its micheal', 'question is place and its usa'}"
      ]
     },
     "execution_count": 9,
     "metadata": {},
     "output_type": "execute_result"
    }
   ],
   "source": [
    "{f\"question is {key} and its {value}\" for key,value in dict.items()}"
   ]
  },
  {
   "cell_type": "code",
   "execution_count": 10,
   "metadata": {},
   "outputs": [
    {
     "data": {
      "text/plain": [
       "{'arjun', 'arjunn', 'name'}"
      ]
     },
     "execution_count": 10,
     "metadata": {},
     "output_type": "execute_result"
    }
   ],
   "source": [
    "{\"name\",\"arjun\",\"arjunn\"}"
   ]
  },
  {
   "cell_type": "code",
   "execution_count": 14,
   "metadata": {},
   "outputs": [
    {
     "data": {
      "text/plain": [
       "{'arjun', 'name'}"
      ]
     },
     "execution_count": 14,
     "metadata": {},
     "output_type": "execute_result"
    }
   ],
   "source": [
    "set([\"name\",\"arjun\",\"arjun\"])"
   ]
  },
  {
   "cell_type": "code",
   "execution_count": 16,
   "metadata": {},
   "outputs": [
    {
     "name": "stdout",
     "output_type": "stream",
     "text": [
      "micheal\n",
      "usa\n"
     ]
    }
   ],
   "source": [
    "for i in dict.values():\n",
    "    print(i)"
   ]
  },
  {
   "cell_type": "code",
   "execution_count": 6,
   "metadata": {},
   "outputs": [
    {
     "name": "stdout",
     "output_type": "stream",
     "text": [
      "3\n",
      "3\n",
      "3\n"
     ]
    }
   ],
   "source": [
    "for chapter in data.get(\"chapters\"):\n",
    "    print(len(chapter))"
   ]
  },
  {
   "cell_type": "code",
   "execution_count": 1,
   "metadata": {},
   "outputs": [],
   "source": [
    "data = {\n",
    "    \"chapters\": [\n",
    "        {\n",
    "            \"title\": \"Chapter 1: Essential Parts of Speech\",\n",
    "            \"summary\": \"This chapter covers the essential parts of speech, including nouns, verbs, and pronouns.\",\n",
    "            \"subtopics\": [\n",
    "                {\n",
    "                    \"title\": \"Nouns\",\n",
    "                    \"summary\": \"A noun is a word that refers to a person, place, thing, or idea.\",\n",
    "                    \"examples\": [\n",
    "                        {\n",
    "                            \"title\": \"Common Nouns\",\n",
    "                            \"description\": \"Common nouns are general terms that can refer to any member of a category.\",\n",
    "                            \"activity_examples\": [\n",
    "                                \"cat\",\n",
    "                                \"city\",\n",
    "                                \"teacher\"\n",
    "                            ]\n",
    "                        },\n",
    "                        {\n",
    "                            \"title\": \"Proper Nouns\",\n",
    "                            \"description\": \"Proper nouns are specific names of people, places, or things.\",\n",
    "                            \"activity_examples\": [\n",
    "                                \"John\",\n",
    "                                \"New York\",\n",
    "                                \"Google\"\n",
    "                            ]\n",
    "                        }\n",
    "                    ]\n",
    "                },\n",
    "                {\n",
    "                    \"title\": \"Verbs\",\n",
    "                    \"summary\": \"A verb is a word that expresses action or a state of being.\",\n",
    "                    \"examples\": [\n",
    "                        {\n",
    "                            \"title\": \"Action Verbs\",\n",
    "                            \"description\": \"Action verbs express physical or mental action.\",\n",
    "                            \"activity_examples\": [\n",
    "                                \"run\",\n",
    "                                \"think\",\n",
    "                                \"read\"\n",
    "                            ]\n",
    "                        },\n",
    "                        {\n",
    "                            \"title\": \"Linking Verbs\",\n",
    "                            \"description\": \"Linking verbs connect the subject to additional information.\",\n",
    "                            \"activity_examples\": [\n",
    "                                \"be\",\n",
    "                                \"seem\",\n",
    "                                \"appear\"\n",
    "                            ]\n",
    "                        }\n",
    "                    ]\n",
    "                },\n",
    "                {\n",
    "                    \"title\": \"Pronouns\",\n",
    "                    \"summary\": \"A pronoun is a word that takes the place of a noun in a sentence.\",\n",
    "                    \"examples\": [\n",
    "                        {\n",
    "                            \"title\": \"Personal Pronouns\",\n",
    "                            \"description\": \"Personal pronouns replace nouns that refer to people or animals.\",\n",
    "                            \"activity_examples\": [\n",
    "                                \"I\",\n",
    "                                \"you\",\n",
    "                                \"he\"\n",
    "                            ]\n",
    "                        },\n",
    "                        {\n",
    "                            \"title\": \"Possessive Pronouns\",\n",
    "                            \"description\": \"Possessive pronouns show ownership or possession.\",\n",
    "                            \"activity_examples\": [\n",
    "                                \"my\",\n",
    "                                \"your\",\n",
    "                                \"his\"\n",
    "                            ]\n",
    "                        }\n",
    "                    ]\n",
    "                }\n",
    "            ]\n",
    "        },\n",
    "        {\n",
    "            \"title\": \"Chapter 2: Adjectives, Adverbs, Conjunctions, Interjections, and Prepositions\",\n",
    "            \"summary\": \"This chapter covers adjectives, adverbs, conjunctions, interjections, and prepositions.\",\n",
    "            \"subtopics\": [\n",
    "                {\n",
    "                    \"title\": \"Adjectives\",\n",
    "                    \"summary\": \"An adjective is a word that modifies or describes a noun or pronoun.\",\n",
    "                    \"examples\": [\n",
    "                        {\n",
    "                            \"title\": \"Descriptive Adjectives\",\n",
    "                            \"description\": \"Descriptive adjectives describe the characteristics of a noun or pronoun.\",\n",
    "                            \"activity_examples\": [\n",
    "                                \"happy\",\n",
    "                                \"tall\",\n",
    "                                \"blue\"\n",
    "                            ]\n",
    "                        },\n",
    "                        {\n",
    "                            \"title\": \"Quantitative Adjectives\",\n",
    "                            \"description\": \"Quantitative adjectives describe the quantity of a noun or pronoun.\",\n",
    "                            \"activity_examples\": [\n",
    "                                \"three\",\n",
    "                                \"some\",\n",
    "                                \"all\"\n",
    "                            ]\n",
    "                        }\n",
    "                    ]\n",
    "                },\n",
    "                {\n",
    "                    \"title\": \"Adverbs\",\n",
    "                    \"summary\": \"An adverb is a word that modifies or describes a verb, an adjective, or another adverb.\",\n",
    "                    \"examples\": [\n",
    "                        {\n",
    "                            \"title\": \"Manner Adverbs\",\n",
    "                            \"description\": \"Manner adverbs describe the way something is done.\",\n",
    "                            \"activity_examples\": [\n",
    "                                \"quickly\",\n",
    "                                \"loudly\",\n",
    "                                \"carefully\"\n",
    "                            ]\n",
    "                        },\n",
    "                        {\n",
    "                            \"title\": \"Time Adverbs\",\n",
    "                            \"description\": \"Time adverbs describe when something happens.\",\n",
    "                            \"activity_examples\": [\n",
    "                                \"yesterday\",\n",
    "                                \"tomorrow\",\n",
    "                                \"now\"\n",
    "                            ]\n",
    "                        }\n",
    "                    ]\n",
    "                },\n",
    "                {\n",
    "                    \"title\": \"Conjunctions\",\n",
    "                    \"summary\": \"A conjunction is a word that connects words, phrases, or clauses.\",\n",
    "                    \"examples\": [\n",
    "                        {\n",
    "                            \"title\": \"Coordinating Conjunctions\",\n",
    "                            \"description\": \"Coordinating conjunctions connect words or phrases of equal importance.\",\n",
    "                            \"activity_examples\": [\n",
    "                                \"and\",\n",
    "                                \"but\",\n",
    "                                \"or\"\n",
    "                            ]\n",
    "                        },\n",
    "                        {\n",
    "                            \"title\": \"Subordinating Conjunctions\",\n",
    "                            \"description\": \"Subordinating conjunctions connect a dependent clause to an independent clause.\",\n",
    "                            \"activity_examples\": [\n",
    "                                \"because\",\n",
    "                                \"although\",\n",
    "                                \"if\"\n",
    "                            ]\n",
    "                        }\n",
    "                    ]\n",
    "                },\n",
    "                {\n",
    "                    \"title\": \"Interjections\",\n",
    "                    \"summary\": \"An interjection is a word that expresses emotion or feeling.\",\n",
    "                    \"examples\": [\n",
    "                        {\n",
    "                            \"title\": \"Emotional Interjections\",\n",
    "                            \"description\": \"Emotional interjections express strong emotions like surprise, excitement, or excitement.\",\n",
    "                            \"activity_examples\": [\n",
    "                                \"Oh!\",\n",
    "                                \"Wow!\",\n",
    "                                \"Ouch!\"\n",
    "                            ]\n",
    "                        }\n",
    "                    ]\n",
    "                },\n",
    "                {\n",
    "                    \"title\": \"Prepositions\",\n",
    "                    \"summary\": \"A preposition is a word that shows the relationship between a noun or pronoun and other words in a sentence.\",\n",
    "                    \"examples\": [\n",
    "                        {\n",
    "                            \"title\": \"Location Prepositions\",\n",
    "                            \"description\": \"Location prepositions show where something is or happens.\",\n",
    "                            \"activity_examples\": [\n",
    "                                \"in\",\n",
    "                                \"on\",\n",
    "                                \"at\"\n",
    "                            ]\n",
    "                        },\n",
    "                        {\n",
    "                            \"title\": \"Direction Prepositions\",\n",
    "                            \"description\": \"Direction prepositions show movement or direction.\",\n",
    "                            \"activity_examples\": [\n",
    "                                \"to\",\n",
    "                                \"from\",\n",
    "                                \"up\"\n",
    "                            ]\n",
    "                        }\n",
    "                    ]\n",
    "                }\n",
    "            ]\n",
    "        },\n",
    "        {\n",
    "            \"title\": \"Chapter 3: Sentence Structures\",\n",
    "            \"summary\": \"This chapter covers different sentence structures to improve sentence formation skills.\",\n",
    "            \"subtopics\": [\n",
    "                {\n",
    "                    \"title\": \"Simple Sentences\",\n",
    "                    \"summary\": \"A simple sentence has one independent clause.\",\n",
    "                    \"examples\": [\n",
    "                        {\n",
    "                            \"title\": \"Declarative Sentences\",\n",
    "                            \"description\": \"Declarative sentences state a fact or opinion.\",\n",
    "                            \"activity_examples\": [\n",
    "                                \"I like coffee.\",\n",
    "                                \"She is a teacher.\"\n",
    "                            ]\n",
    "                        },\n",
    "                        {\n",
    "                            \"title\": \"Interrogative Sentences\",\n",
    "                            \"description\": \"Interrogative sentences ask a question.\",\n",
    "                            \"activity_examples\": [\n",
    "                                \"What is your name?\",\n",
    "                                \"Where do you live?\"\n",
    "                            ]\n",
    "                        }\n",
    "                    ]\n",
    "                },\n",
    "                {\n",
    "                    \"title\": \"Compound Sentences\",\n",
    "                    \"summary\": \"A compound sentence has two or more independent clauses joined by a conjunction.\",\n",
    "                    \"examples\": [\n",
    "                        {\n",
    "                            \"title\": \"Using Coordinating Conjunctions\",\n",
    "                            \"description\": \"Coordinating conjunctions connect independent clauses.\",\n",
    "                            \"activity_examples\": [\n",
    "                                \"I like coffee, and I love tea.\",\n",
    "                                \"She is a teacher, but she is also a writer.\"\n",
    "                            ]\n",
    "                        }\n",
    "                    ]\n",
    "                },\n",
    "                {\n",
    "                    \"title\": \"Complex Sentences\",\n",
    "                    \"summary\": \"A complex sentence has one independent clause and one or more dependent clauses.\",\n",
    "                    \"examples\": [\n",
    "                        {\n",
    "                            \"title\": \"Using Subordinating Conjunctions\",\n",
    "                            \"description\": \"Subordinating conjunctions connect a dependent clause to an independent clause.\",\n",
    "                            \"activity_examples\": [\n",
    "                                \"I went to the store because I needed milk.\",\n",
    "                                \"She is tired because she didn't sleep well.\"\n",
    "                            ]\n",
    "                        }\n",
    "                    ]\n",
    "                }\n",
    "            ]\n",
    "        }\n",
    "    ]\n",
    "}\n",
    "\n"
   ]
  },
  {
   "cell_type": "code",
   "execution_count": 10,
   "metadata": {},
   "outputs": [
    {
     "data": {
      "text/plain": [
       "[{'title': 'Nouns',\n",
       "  'summary': 'A noun is a word that refers to a person, place, thing, or idea.',\n",
       "  'examples': [{'title': 'Common Nouns',\n",
       "    'description': 'Common nouns are general terms that can refer to any member of a category.',\n",
       "    'activity_examples': ['cat', 'city', 'teacher']},\n",
       "   {'title': 'Proper Nouns',\n",
       "    'description': 'Proper nouns are specific names of people, places, or things.',\n",
       "    'activity_examples': ['John', 'New York', 'Google']}]},\n",
       " {'title': 'Verbs',\n",
       "  'summary': 'A verb is a word that expresses action or a state of being.',\n",
       "  'examples': [{'title': 'Action Verbs',\n",
       "    'description': 'Action verbs express physical or mental action.',\n",
       "    'activity_examples': ['run', 'think', 'read']},\n",
       "   {'title': 'Linking Verbs',\n",
       "    'description': 'Linking verbs connect the subject to additional information.',\n",
       "    'activity_examples': ['be', 'seem', 'appear']}]},\n",
       " {'title': 'Pronouns',\n",
       "  'summary': 'A pronoun is a word that takes the place of a noun in a sentence.',\n",
       "  'examples': [{'title': 'Personal Pronouns',\n",
       "    'description': 'Personal pronouns replace nouns that refer to people or animals.',\n",
       "    'activity_examples': ['I', 'you', 'he']},\n",
       "   {'title': 'Possessive Pronouns',\n",
       "    'description': 'Possessive pronouns show ownership or possession.',\n",
       "    'activity_examples': ['my', 'your', 'his']}]}]"
      ]
     },
     "execution_count": 10,
     "metadata": {},
     "output_type": "execute_result"
    }
   ],
   "source": [
    "data['chapters'][0]['subtopics']"
   ]
  },
  {
   "cell_type": "code",
   "execution_count": 11,
   "metadata": {},
   "outputs": [],
   "source": [
    "data = {'chapter1': {'title': 'Essential Parts of Speech', 'summary': 'In this chapter, we will explore the essential parts of speech, including nouns, verbs, and pronouns.', 'subtopics': [{'title': 'Nouns', 'summary': 'Learn about common nouns, proper nouns, and collective nouns.', 'examples': [{'title': 'Common Nouns', 'description': \"Examples of common nouns include 'cat', 'dog', and 'house'.\", 'activity_examples': ['Identify the common nouns in a sentence.', 'Use common nouns to form simple sentences.']}, {'title': 'Proper Nouns', 'description': \"Examples of proper nouns include 'John', 'London', and 'Google'.\", 'activity_examples': ['Identify the proper nouns in a sentence.', 'Use proper nouns to form simple sentences.']}, {'title': 'Collective Nouns', 'description': \"Examples of collective nouns include 'family', 'team', and 'herd'.\", 'activity_examples': ['Identify the collective nouns in a sentence.', 'Use collective nouns to form simple sentences.']}]}, {'title': 'Verbs', 'summary': 'Learn about action verbs and linking verbs.', 'examples': [{'title': 'Action Verbs', 'description': \"Examples of action verbs include 'run', 'jump', and 'read'.\", 'activity_examples': ['Identify the action verbs in a sentence.', 'Use action verbs to form simple sentences.']}, {'title': 'Linking Verbs', 'description': \"Examples of linking verbs include 'be', 'seem', and 'appear'.\", 'activity_examples': ['Identify the linking verbs in a sentence.', 'Use linking verbs to form simple sentences.']}]}, {'title': 'Pronouns', 'summary': 'Learn about personal pronouns, possessive pronouns, and reflexive pronouns.', 'examples': [{'title': 'Personal Pronouns', 'description': \"Examples of personal pronouns include 'I', 'you', and 'he'.\", 'activity_examples': ['Identify the personal pronouns in a sentence.', 'Use personal pronouns to form simple sentences.']}, {'title': 'Possessive Pronouns', 'description': \"Examples of possessive pronouns include 'mine', 'yours', and 'hers'.\", 'activity_examples': ['Identify the possessive pronouns in a sentence.', 'Use possessive pronouns to form simple sentences.']}, {'title': 'Reflexive Pronouns', 'description': \"Examples of reflexive pronouns include 'myself', 'yourself', and 'herself'.\", 'activity_examples': ['Identify the reflexive pronouns in a sentence.', 'Use reflexive pronouns to form simple sentences.']}]}]}, 'chapter2': {'title': 'Adjectives, Adverbs, Conjunctions, Interjections, and Prepositions', 'summary': 'In this chapter, we will explore the essential parts of speech that help us add more detail and complexity to our language.', 'subtopics': [{'title': 'Adjectives', 'summary': 'Learn about descriptive adjectives and quantitive adjectives.', 'examples': [{'title': 'Descriptive Adjectives', 'description': \"Examples of descriptive adjectives include 'happy', 'sad', and 'interesting'.\", 'activity_examples': ['Identify the descriptive adjectives in a sentence.', 'Use descriptive adjectives to form simple sentences.']}, {'title': 'Quantitative Adjectives', 'description': \"Examples of quantitative adjectives include 'big', 'small', and 'long'.\", 'activity_examples': ['Identify the quantitative adjectives in a sentence.', 'Use quantitative adjectives to form simple sentences.']}]}, {'title': 'Adverbs', 'summary': 'Learn about adverbs that modify verbs, adjectives, and other adverbs.', 'examples': [{'title': 'Adverbs that Modify Verbs', 'description': \"Examples of adverbs that modify verbs include 'quickly', 'loudly', and 'slowly'.\", 'activity_examples': ['Identify the adverbs that modify verbs in a sentence.', 'Use adverbs that modify verbs to form simple sentences.']}, {'title': 'Adverbs that Modify Adjectives', 'description': \"Examples of adverbs that modify adjectives include 'very', 'extremely', and 'slightly'.\", 'activity_examples': ['Identify the adverbs that modify adjectives in a sentence.', 'Use adverbs that modify adjectives to form simple sentences.']}]}, {'title': 'Conjunctions', 'summary': 'Learn about coordinating and subordinating conjunctions.', 'examples': [{'title': 'Coordinating Conjunctions', 'description': \"Examples of coordinating conjunctions include 'and', 'but', and 'or'.\", 'activity_examples': ['Identify the coordinating conjunctions in a sentence.', 'Use coordinating conjunctions to form simple sentences.']}, {'title': 'Subordinating Conjunctions', 'description': \"Examples of subordinating conjunctions include 'because', 'since', and 'although'.\", 'activity_examples': ['Identify the subordinating conjunctions in a sentence.', 'Use subordinating conjunctions to form simple sentences.']}]}, {'title': 'Interjections', 'summary': 'Learn about emotional expressions that convey strong emotions.', 'examples': [{'title': 'Examples of Interjections', 'description': \"Examples of interjections include 'oh', 'ouch', and 'wow'.\", 'activity_examples': ['Identify the interjections in a sentence.', 'Use interjections to form simple sentences.']}]}, {'title': 'Prepositions', 'summary': 'Learn about words that show relationships between objects and actions.', 'examples': [{'title': 'Common Prepositions', 'description': \"Examples of common prepositions include 'of', 'in', and 'on'.\", 'activity_examples': ['Identify the prepositions in a sentence.', 'Use prepositions to form simple sentences.']}]}]}, 'chapter3': {'title': 'Sentence Structures', 'summary': 'In this chapter, we will explore different sentence structures to improve sentence formation skills.', 'subtopics': [{'title': 'Simple Sentences', 'summary': 'Learn how to form simple sentences using nouns, verbs, and adjectives.', 'examples': [{'title': 'Examples of Simple Sentences', 'description': \"Examples of simple sentences include 'The dog is happy.' and 'She is studying English.'\", 'activity_examples': ['Form simple sentences using nouns, verbs, and adjectives.', 'Identify the parts of speech in a simple sentence.']}]}, {'title': 'Compound Sentences', 'summary': 'Learn how to form compound sentences using coordinating conjunctions.', 'examples': [{'title': 'Examples of Compound Sentences', 'description': \"Examples of compound sentences include 'I went to the store, and I bought some milk.' and 'She is tired because she didn't sleep well last night.'\", 'activity_examples': ['Form compound sentences using coordinating conjunctions.', 'Identify the coordinating conjunctions in a compound sentence.']}]}, {'title': 'Complex Sentences', 'summary': 'Learn how to form complex sentences using subordinating conjunctions.', 'examples': [{'title': 'Examples of Complex Sentences', 'description': \"Examples of complex sentences include 'Because I was tired, I went to bed early.' and 'Although it was cold, we went for a walk.'\", 'activity_examples': ['Form complex sentences using subordinating conjunctions.', 'Identify the subordinating conjunctions in a complex sentence.']}]}]}}"
   ]
  },
  {
   "cell_type": "code",
   "execution_count": 6,
   "metadata": {},
   "outputs": [],
   "source": [
    "z = {'By the time I ________ (finish) my homework, it was already midnight. Which of the following options is correct?': 'dasda', 'If I ________ (not/spend) so much money on that new video game, I would have enough money to go on a trip. Which of the following options is correct?': 'daddy', 'The article discusses the impact of social media on mental health, highlighting the need for people to be more ________ (aware) of their online activities. Which of the following options is correct?': 'bye', 'The company has been experiencing financial difficulties, but the new CEO is trying to ________ (turn) things around. Which of the following options is correct?': 'hey ', 'The tourists got lost in the city because they ________ (not/be) able to read the map. Which of the following options is correct?': 'my name '}\n"
   ]
  },
  {
   "cell_type": "code",
   "execution_count": 8,
   "metadata": {},
   "outputs": [
    {
     "name": "stdout",
     "output_type": "stream",
     "text": [
      "By the time I ________ (finish) my homework, it was already midnight. Which of the following options is correct? dasda\n",
      "If I ________ (not/spend) so much money on that new video game, I would have enough money to go on a trip. Which of the following options is correct? daddy\n",
      "The article discusses the impact of social media on mental health, highlighting the need for people to be more ________ (aware) of their online activities. Which of the following options is correct? bye\n",
      "The company has been experiencing financial difficulties, but the new CEO is trying to ________ (turn) things around. Which of the following options is correct? hey \n",
      "The tourists got lost in the city because they ________ (not/be) able to read the map. Which of the following options is correct? my name \n"
     ]
    }
   ],
   "source": [
    "for question, resonse in z.items():\n",
    "    print(question,resonse)"
   ]
  },
  {
   "cell_type": "code",
   "execution_count": 2,
   "metadata": {},
   "outputs": [
    {
     "data": {
      "text/plain": [
       "dict_keys(['chapter'])"
      ]
     },
     "execution_count": 2,
     "metadata": {},
     "output_type": "execute_result"
    }
   ],
   "source": [
    "z.keys()"
   ]
  },
  {
   "cell_type": "code",
   "execution_count": 5,
   "metadata": {},
   "outputs": [
    {
     "data": {
      "text/plain": [
       "{'name': 'arjun', 'place': 'USA'}"
      ]
     },
     "execution_count": 5,
     "metadata": {},
     "output_type": "execute_result"
    }
   ],
   "source": [
    "z[\"chapter\"]"
   ]
  },
  {
   "cell_type": "code",
   "execution_count": 17,
   "metadata": {},
   "outputs": [
    {
     "data": {
      "text/plain": [
       "3"
      ]
     },
     "execution_count": 17,
     "metadata": {},
     "output_type": "execute_result"
    }
   ],
   "source": [
    "len(data['chapter1']['subtopics'])"
   ]
  },
  {
   "cell_type": "code",
   "execution_count": 20,
   "metadata": {},
   "outputs": [
    {
     "data": {
      "text/plain": [
       "[{'title': 'Common Nouns',\n",
       "  'description': \"Examples of common nouns include 'cat', 'dog', and 'house'.\",\n",
       "  'activity_examples': ['Identify the common nouns in a sentence.',\n",
       "   'Use common nouns to form simple sentences.']},\n",
       " {'title': 'Proper Nouns',\n",
       "  'description': \"Examples of proper nouns include 'John', 'London', and 'Google'.\",\n",
       "  'activity_examples': ['Identify the proper nouns in a sentence.',\n",
       "   'Use proper nouns to form simple sentences.']},\n",
       " {'title': 'Collective Nouns',\n",
       "  'description': \"Examples of collective nouns include 'family', 'team', and 'herd'.\",\n",
       "  'activity_examples': ['Identify the collective nouns in a sentence.',\n",
       "   'Use collective nouns to form simple sentences.']}]"
      ]
     },
     "execution_count": 20,
     "metadata": {},
     "output_type": "execute_result"
    }
   ],
   "source": [
    "data['chapter1']['subtopics'][0]['examples']"
   ]
  },
  {
   "cell_type": "code",
   "execution_count": null,
   "metadata": {},
   "outputs": [],
   "source": [
    "level_chain               = prompt_and_chain.proficiency_level_prompt()\n",
    "    language_curriculum_chain = prompt_and_chain.language_curriculum_prompt()\n",
    "\n",
    "    proficiency_level   = level_chain.invoke(string_response)\n",
    "    language_curriculum = language_curriculum_chain.invoke({\"language_level\"    :proficiency_level,\n",
    "                                                 \"language\"          : \"english\"})\n"
   ]
  },
  {
   "cell_type": "code",
   "execution_count": null,
   "metadata": {},
   "outputs": [],
   "source": [
    "@app.route(\"/results\")\n",
    "def results():\n",
    "    question_and_response = session.get('question_and_response', {})\n",
    "\n",
    "    if not isinstance(question_and_response, dict):\n",
    "        question_and_response = {}\n",
    "\n",
    "    string_response = \". \".join([f\"question: {key} and user_response: {value}\" for key, value in question_and_response.items()])\n",
    "    \n",
    "    session.pop('question_index', None)\n",
    "    session.pop('question_and_response', None)\n",
    "    session.pop(\"questions\", None)\n",
    "\n",
    "    return render_template(\"results.html\", question_and_response=question_and_response)"
   ]
  },
  {
   "cell_type": "code",
   "execution_count": null,
   "metadata": {},
   "outputs": [],
   "source": [
    "from Language_Mentor import logger\n",
    "from Language_Mentor.components.Model import ModelSetup\n",
    "from Language_Mentor.config.configuration import ConfigurationManager\n",
    "from Language_Mentor.components.Prompt_and_chain import PromptAndChain\n",
    "\n",
    "from flask import Flask, render_template, request, redirect, url_for, session\n",
    "\n",
    "app = Flask(__name__)\n",
    "app.secret_key = 'your_secret_keys'  \n",
    "\n",
    "manager = ConfigurationManager()\n",
    "model_config = manager.get_model_config()\n",
    "llm = ModelSetup(config=model_config).model_setup()\n",
    "prompt_and_chain = PromptAndChain(model_config=model_config)\n",
    "\n",
    "# Questions Chain\n",
    "question_chain = prompt_and_chain.question_prompt()\n",
    "\n",
    "@app.before_request\n",
    "def before_request():\n",
    "    \"\"\"Initialize session variables before each request if not present.\"\"\"\n",
    "    if 'question_index' not in session:\n",
    "        session['question_index'] = 0\n",
    "    if 'question_and_response' not in session:\n",
    "        session['question_and_response'] = {}\n",
    "    if 'questions' not in session:\n",
    "        session['questions'] = []\n",
    "\n",
    "@app.route(\"/\", methods=[\"GET\", \"POST\"])\n",
    "def question_flow():\n",
    "    \"\"\"Handles question flow and user responses based on language selection.\"\"\"\n",
    "    logger.info(\"Question flow initialized...\")\n",
    "\n",
    "    # If questions are not yet set, display language selection form\n",
    "    if not session['questions']:\n",
    "        if request.method == \"POST\":\n",
    "            language = request.form.get(\"language\")\n",
    "            if language:\n",
    "                questions_dict = question_chain.invoke(language)  # Initialize questions based on language\n",
    "                session['questions'] = questions_dict['questions']\n",
    "                session['question_index'] = 0\n",
    "                session['question_and_response'] = {}\n",
    "                logger.info(f\"Questions initialized for language: {language}\")\n",
    "                return redirect(url_for(\"question_flow\"))\n",
    "            else:\n",
    "                return \"Language selection is required to proceed.\", 400\n",
    "        else:\n",
    "            return render_template(\"language_selection.html\")\n",
    "\n",
    "    questions = session.get('questions', [])\n",
    "    question_index = session.get('question_index', 0)\n",
    "    question_and_response = session.get('question_and_response', {})\n",
    "\n",
    "    # Redirect to results if all questions have been answered\n",
    "    if question_index >= len(questions):\n",
    "        return redirect(url_for(\"results\"))\n",
    "\n",
    "    # Handle the user's response submission\n",
    "    if request.method == \"POST\":\n",
    "        user_response = request.form.get(\"user_response\")\n",
    "        question_and_response[questions[question_index]] = user_response\n",
    "        session['question_and_response'] = question_and_response\n",
    "\n",
    "        # Update index for next question\n",
    "        question_index += 1\n",
    "        session['question_index'] = question_index\n",
    "\n",
    "        # Redirect to results if this was the last question\n",
    "        if question_index >= len(questions):\n",
    "            return redirect(url_for(\"results\"))\n",
    "\n",
    "    # Render the current question\n",
    "    current_question = questions[question_index]\n",
    "    logger.info(f\"Displaying question {question_index + 1}\")\n",
    "    return render_template(\"index.html\", question=current_question, question_index=question_index + 1)\n",
    "\n",
    "@app.route(\"/results\")\n",
    "def results():\n",
    "    \"\"\"Display results after all questions have been answered.\"\"\"\n",
    "    question_and_response = session.get('question_and_response', {})\n",
    "    session.pop('question_index', None)         \n",
    "    session.pop('question_and_response', None)\n",
    "    session.pop(\"questions\", None)\n",
    "    return render_template(\"results.html\", responses=question_and_response)\n",
    "\n",
    "if __name__ == \"__main__\":\n",
    "    app.run(debug=True)\n"
   ]
  }
 ],
 "metadata": {
  "kernelspec": {
   "display_name": "nlp_env",
   "language": "python",
   "name": "python3"
  },
  "language_info": {
   "codemirror_mode": {
    "name": "ipython",
    "version": 3
   },
   "file_extension": ".py",
   "mimetype": "text/x-python",
   "name": "python",
   "nbconvert_exporter": "python",
   "pygments_lexer": "ipython3",
   "version": "3.9.19"
  }
 },
 "nbformat": 4,
 "nbformat_minor": 2
}
